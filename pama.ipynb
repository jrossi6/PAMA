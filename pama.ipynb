{
 "cells": [
  {
   "cell_type": "code",
   "execution_count": null,
   "metadata": {},
   "outputs": [],
   "source": [
    "import os\n",
    "import sys\n",
    "import argparse\n",
    "import logging\n",
    "import cv2 as cv\n",
    "import numpy as np\n",
    "import torch\n",
    "import torch.nn as nn\n",
    "import torch.utils.data as data\n",
    "from torchvision.utils import save_image\n",
    "from PIL import Image, ImageFile\n",
    "from net import Net\n",
    "from utils import DEVICE, train_transform, test_transform, FlatFolderDataset, InfiniteSamplerWrapper, plot_grad_flow, adjust_learning_rate\n",
    "from color_transfer import color_transfer\n",
    "\n",
    "Image.MAX_IMAGE_PIXELS = None  \n",
    "ImageFile.LOAD_TRUNCATED_IMAGES = True\n",
    "\n",
    "DEVICE = 'cpu'"
   ]
  },
  {
   "cell_type": "code",
   "execution_count": null,
   "metadata": {},
   "outputs": [],
   "source": [
    "# load pretrained checkpoints for the model\n",
    "os.system(\"gdown https://drive.google.com/uc?id=1rPB_qnelVVSad6CtadmhRFi0PMI_RKdy\")\n",
    "os.mkdir(\"checkpoints/\")\n",
    "\n",
    "os.system(\"unzip -j original_PAMA.zip -d checkpoints/\")"
   ]
  },
  {
   "cell_type": "code",
   "execution_count": 100,
   "metadata": {},
   "outputs": [],
   "source": [
    "def match_color(img_source: Image, img_target: Image) -> Image:\n",
    "  np_source_rgb = np.array(img_source)\n",
    "  np_target_rgb = np.array(img_target)\n",
    "  np_source_bgr = cv.cvtColor(np_source_rgb, cv.COLOR_RGB2BGR)\n",
    "  np_target_bgr = cv.cvtColor(np_target_rgb, cv.COLOR_RGB2BGR)\n",
    "\n",
    "  np_out_bgr = color_transfer(np_source_bgr, np_target_bgr)\n",
    "  np_out_rgb = cv.cvtColor(np_out_bgr, cv.COLOR_BGR2RGB)\n",
    "  return Image.fromarray(np_out_rgb)\n",
    "\n",
    "\n",
    "def eval(args):\n",
    "    mes = \"current pid: \" + str(os.getpid())\n",
    "    print(mes)\n",
    "    logging.info(mes)\n",
    "    model = Net(args)\n",
    "    model.eval()\n",
    "    model = model.to(DEVICE)\n",
    "\n",
    "    tf = test_transform()\n",
    "    img_c = Image.open(args.content).convert('RGB')\n",
    "    img_s = Image.open(args.style).convert('RGB')\n",
    "\n",
    "    if args.preserve_color:\n",
    "        img_s = match_color(img_c, img_s)\n",
    "        Is = tf(img_s).to(DEVICE)\n",
    "        save_image(Is, 'recolor.png')\n",
    "    else:\n",
    "        Is = tf(img_s).to(DEVICE)\n",
    "\n",
    "    Ic = tf(img_c).to(DEVICE)\n",
    "\n",
    "    Ic = Ic.unsqueeze(dim=0)\n",
    "    Is = Is.unsqueeze(dim=0)\n",
    "\n",
    "    with torch.no_grad():\n",
    "        Ics = model(Ic, Is)\n",
    "\n",
    "    name_cs = \"ics.jpg\"\n",
    "    save_image(Ics[0], name_cs)"
   ]
  },
  {
   "cell_type": "code",
   "execution_count": 101,
   "metadata": {},
   "outputs": [
    {
     "name": "stdout",
     "output_type": "stream",
     "text": [
      "current pid: 10486\n"
     ]
    }
   ],
   "source": [
    "workspace = './'\n",
    "samples_dir = workspace + 'samples/'\n",
    "content_dir = workspace + 'content/'\n",
    "style_dir = workspace + 'style/'\n",
    "\n",
    "args = type('obj', (object,), {})\n",
    "\n",
    "args.pretrained = True\n",
    "args.requires_grad = True\n",
    "\n",
    "args.training = False\n",
    "args.run_folder = False\n",
    "args.content = samples_dir + '1c.png'\n",
    "args.style = samples_dir + '1s.png'\n",
    "args.alpha = 1.0\n",
    "args.preserve_color = False\n",
    "\n",
    "eval(args)"
   ]
  },
  {
   "cell_type": "markdown",
   "metadata": {},
   "source": [
    "# Color Preservation via SV transfer in HSV space"
   ]
  },
  {
   "cell_type": "code",
   "execution_count": 129,
   "metadata": {},
   "outputs": [],
   "source": [
    "# 3 methods of HSV Style Transfer to try:\n",
    "#    1. Convert normal output to HSV, replace Hue with that of input content\n",
    "#      a. save output, read as HSV, replace hue, save again\n",
    "#    2. Can I stylize the Hue map without changing the Hues?\n",
    "\n",
    "def eval(args):\n",
    "    mes = \"current pid: \" + str(os.getpid())\n",
    "    print(mes)\n",
    "    logging.info(mes)\n",
    "\n",
    "    model = Net(args)\n",
    "    model.eval()\n",
    "    model = model.to(DEVICE)\n",
    "    \n",
    "    tf = test_transform()\n",
    "\n",
    "    img_c = Image.open(args.content).convert('RGB')\n",
    "    img_s = Image.open(args.style).convert('RGB')\n",
    "\n",
    "    arr_c_hsv = np.array(img_c.convert('HSV'))\n",
    "    c_H = arr_c_hsv[:,:,0]\n",
    "    c_S = arr_c_hsv[:,:,1]\n",
    "    c_V = arr_c_hsv[:,:,2]\n",
    "\n",
    "    Ic = tf(img_c).to(DEVICE)\n",
    "    Is = tf(img_s).to(DEVICE)\n",
    "\n",
    "    Ic = Ic.unsqueeze(dim=0)\n",
    "    Is = Is.unsqueeze(dim=0)\n",
    "\n",
    "    with torch.no_grad():\n",
    "        Ics = model(Ic, Is)\n",
    "\n",
    "    fn_full = args.out_dir + args.out_prefix + 'full.png'\n",
    "    fn_sat_val = args.out_dir + args.out_prefix + 'sat_val.png'\n",
    "    fn_val = args.out_dir + args.out_prefix + 'val.png'\n",
    "    fn_sat = args.out_dir + args.out_prefix + 'sat.png'\n",
    "    fn_hue = args.out_dir + args.out_prefix + 'hue.png'\n",
    "    fn_hue_val = args.out_dir + args.out_prefix + 'hue_val.png'\n",
    "\n",
    "    save_image(Ics[0], fn_full)\n",
    "    img_full = Image.open(fn_full).convert('RGB').convert('HSV')\n",
    "\n",
    "    arr_sat_val = np.array(img_full).copy()\n",
    "    H, W, _ = arr_sat_val.shape\n",
    "    arr_sat_val[:,:,0] = c_H[:H, :W]\n",
    "    img_sat_val = Image.fromarray(arr_sat_val, mode='HSV')\n",
    "    img_sat_val.convert('RGB').save(fn_sat_val)\n",
    "\n",
    "    arr_val = arr_sat_val\n",
    "    arr_val[:,:,1] = c_S[:H,:W]\n",
    "    img_val = Image.fromarray(arr_val, mode='HSV')\n",
    "    img_val.convert('RGB').save(fn_val)\n",
    "\n",
    "    arr_hue_val = np.array(img_full).copy()\n",
    "    arr_hue_val[:,:,1] = c_S[:H,:W]\n",
    "    img_hue_val = Image.fromarray(arr_hue_val, mode='HSV')\n",
    "    img_hue_val.convert('RGB').save(fn_hue_val)\n",
    "\n",
    "    arr_hue = arr_hue_val\n",
    "    arr_hue[:,:,2] = c_V[:H,:W]\n",
    "    img_hue = Image.fromarray(arr_hue, mode='HSV')\n",
    "    img_hue.convert('RGB').save(fn_hue)\n",
    "\n",
    "    arr_sat = np.array(img_full).copy()\n",
    "    arr_sat[:,:,0] = arr_val[:,:,0]\n",
    "    arr_sat[:,:,2] = arr_hue[:,:,2]\n",
    "    img_sat = Image.fromarray(arr_sat, mode='HSV')\n",
    "    img_sat.convert('RGB').save(fn_sat)\n",
    "\n"
   ]
  },
  {
   "cell_type": "code",
   "execution_count": 130,
   "metadata": {},
   "outputs": [
    {
     "name": "stdout",
     "output_type": "stream",
     "text": [
      "current pid: 10486\n"
     ]
    },
    {
     "name": "stderr",
     "output_type": "stream",
     "text": [
      "/usr/local/lib/python3.7/site-packages/torch/nn/functional.py:780: UserWarning: Note that order of the arguments: ceil_mode and return_indices will changeto match the args list in nn.MaxPool2d in a future release.\n",
      "  warnings.warn(\"Note that order of the arguments: ceil_mode and return_indices will change\"\n"
     ]
    }
   ],
   "source": [
    "workspace = './'\n",
    "samples_dir = workspace + 'samples/'\n",
    "content_dir = workspace + 'content/'\n",
    "style_dir = workspace + 'style/'\n",
    "out_dir = workspace + 'out/'\n",
    "\n",
    "args = type('obj', (object,), {})\n",
    "\n",
    "args.pretrained = True\n",
    "args.requires_grad = True\n",
    "\n",
    "args.training = False\n",
    "args.run_folder = False\n",
    "args.content = samples_dir + '1c.png'\n",
    "args.style = samples_dir + '1s.png'\n",
    "args.alpha = 1.0\n",
    "args.out_dir = out_dir\n",
    "args.out_prefix = '1_'\n",
    "\n",
    "eval(args)"
   ]
  }
 ],
 "metadata": {
  "interpreter": {
   "hash": "949777d72b0d2535278d3dc13498b2535136f6dfe0678499012e853ee9abcab1"
  },
  "kernelspec": {
   "display_name": "Python 3.7.13 64-bit",
   "language": "python",
   "name": "python3"
  },
  "language_info": {
   "codemirror_mode": {
    "name": "ipython",
    "version": 3
   },
   "file_extension": ".py",
   "mimetype": "text/x-python",
   "name": "python",
   "nbconvert_exporter": "python",
   "pygments_lexer": "ipython3",
   "version": "3.7.13"
  },
  "orig_nbformat": 4
 },
 "nbformat": 4,
 "nbformat_minor": 2
}
